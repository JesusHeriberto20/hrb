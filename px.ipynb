{
 "cells": [
  {
   "cell_type": "code",
   "execution_count": null,
   "metadata": {},
   "outputs": [],
   "source": [
    "hoy = input(\"¿Qué fecha es hoy? \")\n",
    "cumpleaños = input(\"¿En qué fecha naciste? \")\n",
    "if hoy == cumpleaños:\n",
    "    print(\"¡Feliz cumpleaños!\")\n",
    "else:\n",
    "    print(\"Hoy no es tu cumpleaños.\")\n"
   ]
  },
  {
   "cell_type": "code",
   "execution_count": null,
   "metadata": {},
   "outputs": [],
   "source": [
    "numero1 = int(input(\"pon el primer numero \"))\n",
    "numero2 = int(input(\"pon el segundo numero \"))\n",
    "resn1 = numero1 * 8\n",
    "resn2 = numero2 + 4\n",
    "print (f\"{numero1}*8 = {resn1}\")\n",
    "print (f\"{numero2}+4 = {resn2}\")\n",
    "if resn1 == resn2:\n",
    "    print (\"los resultados son iguales\")\n",
    "else:\n",
    "    print (\"los resultados son diferentes\")"
   ]
  },
  {
   "cell_type": "code",
   "execution_count": null,
   "metadata": {},
   "outputs": [],
   "source": [
    "C_P = input(\"ingresa tu código postal: \")\n",
    "C_P = int(C_P)\n",
    "if 50000 <= C_P <= 50030:\n",
    "    print(\"el código postal está dentro del rango de entrega \")\n",
    "else:\n",
    "    print(\"el código postal no está dentro del rango de entrega \")"
   ]
  }
 ],
 "metadata": {
  "kernelspec": {
   "display_name": "Python 3",
   "language": "python",
   "name": "python3"
  },
  "language_info": {
   "name": "python",
   "version": "3.12.2"
  }
 },
 "nbformat": 4,
 "nbformat_minor": 2
}
